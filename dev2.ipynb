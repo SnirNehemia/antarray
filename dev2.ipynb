{
 "cells": [
  {
   "cell_type": "code",
   "execution_count": null,
   "metadata": {},
   "outputs": [],
   "source": [
    "%load_ext autoreload\n",
    "%autoreload 2"
   ]
  },
  {
   "cell_type": "code",
   "execution_count": null,
   "metadata": {},
   "outputs": [],
   "source": [
    "from pathlib import Path\n",
    "import matplotlib.pyplot as plt\n",
    "import numpy as np\n",
    "\n",
    "import analyze"
   ]
  },
  {
   "cell_type": "code",
   "execution_count": null,
   "metadata": {},
   "outputs": [],
   "source": [
    "sim_dir = Path.cwd() / \"src\" / \"sim\"\n",
    "\n",
    "fig = plt.figure(figsize=(12, 5))\n",
    "\n",
    "xns = [1, 2, 4]\n",
    "freq = 2.45e9\n",
    "for i, xn in enumerate(xns):\n",
    "    nf2ff = analyze.read_nf2ff(sim_dir / \"antenna_array\" / f\"farfield_{xn}_1.h5\")\n",
    "    E_norm, Dmax, theta = nf2ff[\"E_norm\"][0][0], nf2ff[\"Dmax\"], nf2ff[\"theta\"]\n",
    "    ax = fig.add_subplot(1, 3, i + 1, projection=\"polar\")\n",
    "    title = f\"{xn}x1 array, 60x60mm spacing, {freq / 1e9:n}GHz\"\n",
    "    analyze.plot_ff_polar(E_norm, Dmax, theta, title=title, ax=ax)\n",
    "fig.set_tight_layout(True)\n",
    "fig.suptitle(\"OpenEMS Simulation Far-Field Patterns\")\n",
    "fig.savefig(\"antenna_array_ff.png\", dpi=600)"
   ]
  },
  {
   "cell_type": "code",
   "execution_count": null,
   "metadata": {},
   "outputs": [],
   "source": [
    "sim_dir = Path.cwd() / \"src\" / \"sim\"\n",
    "\n",
    "nf2ff = analyze.read_nf2ff(sim_dir / \"antenna_array\" / f\"farfield__1_{xn}.h5\")\n",
    "E_norm = nf2ff[\"E_norm\"][0][0]\n",
    "Dmax = nf2ff[\"Dmax\"]\n",
    "theta, phi = nf2ff[\"theta\"], nf2ff[\"phi\"]\n",
    "\n",
    "freq = 2.45e9\n",
    "yn = 1\n",
    "xns = np.array([1, 2, 4])\n",
    "dxs = np.array([60, 90])\n",
    "\n",
    "fig, axs = plt.subplots(\n",
    "    nrows=xns.size,\n",
    "    ncols=dxs.size,\n",
    "    figsize=4 * np.array([dxs.size, xns.size]),\n",
    "    subplot_kw={\"projection\": \"polar\"},\n",
    ")\n",
    "axs = axs.flatten()\n",
    "for i, xn in enumerate(xns):\n",
    "    for j, dx in enumerate(dxs):\n",
    "        dy = dx\n",
    "        AF = analyze.array_factor(theta, phi[0], xn, yn, dx, dy, freq)\n",
    "        E_norm_array = E_norm * AF.T\n",
    "        title = f\"{xn}x{yn} array, {dx}x{dy}mm spacing, {freq / 1e9:n}GHz\"\n",
    "        filename = f\"array_{xn}x{yn}_{dx}x{dy}mm_{freq / 1e6:n}MHz\"\n",
    "        ax = axs[i * dxs.size + j]\n",
    "        analyze.plot_ff_polar(E_norm_array, Dmax, theta, title=title, ax=ax)\n",
    "fig.set_tight_layout(True)\n",
    "fig.savefig(\"array_factor.png\", dpi=600)"
   ]
  },
  {
   "cell_type": "code",
   "execution_count": null,
   "metadata": {},
   "outputs": [],
   "source": []
  }
 ],
 "metadata": {
  "kernelspec": {
   "display_name": ".venv",
   "language": "python",
   "name": "python3"
  },
  "language_info": {
   "codemirror_mode": {
    "name": "ipython",
    "version": 3
   },
   "file_extension": ".py",
   "mimetype": "text/x-python",
   "name": "python",
   "nbconvert_exporter": "python",
   "pygments_lexer": "ipython3",
   "version": "3.12.8"
  }
 },
 "nbformat": 4,
 "nbformat_minor": 2
}
