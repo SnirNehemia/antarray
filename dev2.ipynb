{
 "cells": [
  {
   "cell_type": "code",
   "execution_count": null,
   "metadata": {},
   "outputs": [],
   "source": [
    "%load_ext autoreload\n",
    "%autoreload 2"
   ]
  },
  {
   "cell_type": "code",
   "execution_count": null,
   "metadata": {},
   "outputs": [],
   "source": [
    "from pathlib import Path\n",
    "import matplotlib.pyplot as plt\n",
    "import numpy as np\n",
    "\n",
    "import analyze"
   ]
  },
  {
   "cell_type": "code",
   "execution_count": null,
   "metadata": {},
   "outputs": [],
   "source": [
    "sim_name = \"cst\"\n",
    "sim_path = Path.cwd() / \"src\" / \"sim\" / sim_name\n",
    "\n",
    "nf2ff = analyze.read_nf2ff(sim_path / \"nf2ff.h5\")\n",
    "# fig = plt.figure(figsize=(12, 5))\n",
    "# analyze.plot_ff_2d(nf2ff, ax=fig.add_subplot(121))\n",
    "# analyze.plot_ff_3d(nf2ff, logscale=-20, ax=fig.add_subplot(122, projection=\"3d\"))"
   ]
  },
  {
   "cell_type": "code",
   "execution_count": null,
   "metadata": {},
   "outputs": [],
   "source": [
    "theta, phi = nf2ff[\"theta\"], nf2ff[\"phi\"]\n",
    "E_norm, Dmax = nf2ff[\"E_norm\"], nf2ff[\"Dmax\"]\n",
    "E_norm = E_norm[0]  # single frequency\n",
    "\n",
    "analyze.plot_ff_polar(E_norm, Dmax, theta, phi, title=\"title\")\n"
   ]
  },
  {
   "cell_type": "code",
   "execution_count": null,
   "metadata": {},
   "outputs": [],
   "source": [
    "xn = 1\n",
    "yn = 1\n",
    "dx = 60\n",
    "dy = 60\n",
    "freq = 2.45e9\n",
    "AF = analyze.array_factor(theta, phi, xn, yn, dx, dy, freq)\n",
    "\n",
    "E_norm_array = E_norm * AF.T\n",
    "title = f\"{xn}x{yn} array pattern, {dx}x{dy} mm spacing\"\n",
    "analyze.plot_ff_polar(E_norm_array, Dmax, theta, phi, title=title)"
   ]
  }
 ],
 "metadata": {
  "kernelspec": {
   "display_name": ".venv",
   "language": "python",
   "name": "python3"
  },
  "language_info": {
   "codemirror_mode": {
    "name": "ipython",
    "version": 3
   },
   "file_extension": ".py",
   "mimetype": "text/x-python",
   "name": "python",
   "nbconvert_exporter": "python",
   "pygments_lexer": "ipython3",
   "version": "3.12.8"
  }
 },
 "nbformat": 4,
 "nbformat_minor": 2
}
