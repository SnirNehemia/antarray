{
 "cells": [
  {
   "cell_type": "code",
   "execution_count": 2,
   "metadata": {},
   "outputs": [],
   "source": [
    "import numpy as np\n",
    "import matplotlib.pyplot as plt\n",
    "import h5py"
   ]
  },
  {
   "cell_type": "code",
   "execution_count": 3,
   "metadata": {},
   "outputs": [],
   "source": [
    "h5f = h5py.File('Simp_Patch/nf2ff.h5')"
   ]
  },
  {
   "cell_type": "code",
   "execution_count": 4,
   "metadata": {},
   "outputs": [],
   "source": [
    "f_size = len(h5f[\"nf2ff\"][\"P_rad\"][\"FD\"])\n",
    "phi_size = h5f[\"Mesh\"][\"phi\"].size\n",
    "theta_size = h5f[\"Mesh\"][\"theta\"].size\n",
    "f_size, phi_size, theta_size\n",
    "rad_p = np.zeros((f_size, phi_size, theta_size), dtype=np.float64)\n",
    "for i in range(f_size):\n",
    "    rad_p[i] = h5f[\"nf2ff\"][\"P_rad\"][\"FD\"][\"f\" + str(i)][:]"
   ]
  },
  {
   "cell_type": "code",
   "execution_count": null,
   "metadata": {},
   "outputs": [],
   "source": [
    "for i in range(rad_p.shape[0]):\n",
    "    plt.plot(rad_p[i].T)\n",
    "plt.title(\"Radiation Pattern\")\n",
    "plt.xlabel(\"theta\")\n",
    "plt.ylabel(\"phi\")"
   ]
  },
  {
   "cell_type": "code",
   "execution_count": null,
   "metadata": {},
   "outputs": [],
   "source": [
    "h5f.keys()\n",
    "h5f[\"Mesh\"].keys()\n",
    "print(h5f[\"Mesh\"][\"phi\"])\n",
    "print(h5f[\"Mesh\"][\"theta\"])\n",
    "print(h5f[\"Mesh\"][\"r\"])\n",
    "\n",
    "h5f[\"nf2ff\"].keys()\n",
    "print(h5f[\"nf2ff\"][\"E_phi\"][\"FD\"][\"f0_real\"])\n",
    "print(h5f[\"nf2ff\"][\"E_phi\"][\"FD\"][\"f0_imag\"])\n",
    "print(h5f[\"nf2ff\"][\"E_phi\"][\"FD\"][\"f0_imag\"][:].dtype)"
   ]
  },
  {
   "cell_type": "code",
   "execution_count": null,
   "metadata": {},
   "outputs": [],
   "source": []
  }
 ],
 "metadata": {
  "kernelspec": {
   "display_name": ".venv",
   "language": "python",
   "name": "python3"
  },
  "language_info": {
   "codemirror_mode": {
    "name": "ipython",
    "version": 3
   },
   "file_extension": ".py",
   "mimetype": "text/x-python",
   "name": "python",
   "nbconvert_exporter": "python",
   "pygments_lexer": "ipython3",
   "version": "3.12.5"
  }
 },
 "nbformat": 4,
 "nbformat_minor": 2
}
