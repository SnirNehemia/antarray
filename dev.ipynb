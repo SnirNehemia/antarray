{
 "cells": [
  {
   "cell_type": "code",
   "execution_count": null,
   "metadata": {},
   "outputs": [],
   "source": [
    "%load_ext autoreload\n",
    "%autoreload 2"
   ]
  },
  {
   "cell_type": "code",
   "execution_count": null,
   "metadata": {},
   "outputs": [],
   "source": [
    "from pathlib import Path\n",
    "\n",
    "import matplotlib.pyplot as plt\n",
    "import numpy as np\n",
    "\n",
    "import analyze"
   ]
  },
  {
   "cell_type": "code",
   "execution_count": null,
   "metadata": {},
   "outputs": [],
   "source": [
    "# Standard array comparison without beamsteering\n",
    "analyze.plot_sim_and_af(\n",
    "    sim_dir=Path.cwd() / \"src\" / \"sim\" / \"antenna_array\",\n",
    "    freq=2.45e9,\n",
    "    xns=[1, 2, 4],\n",
    "    yn=1,\n",
    "    dxs=[60, 90],\n",
    "    figname=\"antenna_array_comparison\",\n",
    ")"
   ]
  },
  {
   "cell_type": "code",
   "execution_count": null,
   "metadata": {},
   "outputs": [],
   "source": [
    "# Array comparison with beamsteering at 30 degrees\n",
    "analyze.plot_sim_and_af(\n",
    "    sim_dir=Path.cwd() / \"src\" / \"sim\" / \"antenna_array\",\n",
    "    freq=2.45e9,\n",
    "    xns=[4],  # Only showing 4-element arrays which should have beamsteering sims\n",
    "    yn=4,\n",
    "    dxs=[60],\n",
    "    steering_theta=0,  # 30 degree beam steering\n",
    "    figname=\"antenna_array_beamsteering_30deg\",\n",
    ")"
   ]
  },
  {
   "cell_type": "code",
   "execution_count": null,
   "metadata": {},
   "outputs": [],
   "source": [
    "# Array comparison with beamsteering at 30 degrees\n",
    "analyze.plot_sim_and_af(\n",
    "    sim_dir=Path.cwd() / \"src\" / \"sim\" / \"antenna_array\",\n",
    "    freq=2.45e9,\n",
    "    xns=[4],  # Only showing 4-element arrays which should have beamsteering sims\n",
    "    yn=4,\n",
    "    dxs=[60],\n",
    "    steering_theta=15,  # 30 degree beam steering\n",
    "    figname=\"antenna_array_beamsteering_30deg\",\n",
    ")"
   ]
  },
  {
   "cell_type": "code",
   "execution_count": null,
   "metadata": {},
   "outputs": [],
   "source": [
    "# Array comparison with beamsteering at 30 degrees\n",
    "analyze.plot_sim_and_af(\n",
    "    sim_dir=Path.cwd() / \"src\" / \"sim\" / \"antenna_array\",\n",
    "    freq=2.45e9,\n",
    "    xns=[16],  # Only showing 4-element arrays which should have beamsteering sims\n",
    "    yn=16,\n",
    "    dxs=[60],\n",
    "    steering_theta=0,  # 30 degree beam steering\n",
    "    figname=\"antenna_array_beamsteering_00deg\",\n",
    ")"
   ]
  },
  {
   "cell_type": "code",
   "execution_count": null,
   "metadata": {},
   "outputs": [],
   "source": [
    "# Array comparison with beamsteering at 30 degrees\n",
    "analyze.plot_sim_and_af(\n",
    "    sim_dir=Path.cwd() / \"src\" / \"sim\" / \"antenna_array\",\n",
    "    freq=2.45e9,\n",
    "    xns=[16],  # Only showing 4-element arrays which should have beamsteering sims\n",
    "    yn=16,\n",
    "    dxs=[60],\n",
    "    steering_theta=15,  # 30 degree beam steering\n",
    "    figname=\"antenna_array_beamsteering_15deg\",\n",
    ")"
   ]
  }
 ],
 "metadata": {
  "kernelspec": {
   "display_name": ".venv",
   "language": "python",
   "name": "python3"
  },
  "language_info": {
   "codemirror_mode": {
    "name": "ipython",
    "version": 3
   },
   "file_extension": ".py",
   "mimetype": "text/x-python",
   "name": "python",
   "nbconvert_exporter": "python",
   "pygments_lexer": "ipython3",
   "version": "3.12.8"
  }
 },
 "nbformat": 4,
 "nbformat_minor": 2
}
