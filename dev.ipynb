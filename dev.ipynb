{
 "cells": [
  {
   "cell_type": "code",
   "execution_count": null,
   "metadata": {},
   "outputs": [],
   "source": [
    "%load_ext autoreload\n",
    "%autoreload 2"
   ]
  },
  {
   "cell_type": "code",
   "execution_count": null,
   "metadata": {},
   "outputs": [],
   "source": [
    "from pathlib import Path\n",
    "\n",
    "import analyze"
   ]
  },
  {
   "cell_type": "code",
   "execution_count": null,
   "metadata": {},
   "outputs": [],
   "source": [
    "# sim_path = \"single_antenna\"\n",
    "sim_path = \"antenna_array\"\n",
    "\n",
    "nf2ff_path = Path.cwd() / \"src\" / \"sim\" / sim_path / \"farfield_all.h5\"\n",
    "nf2ff = analyze.read_nf2ff(nf2ff_path)\n",
    "\n",
    "analyze.plot_ff_2d(nf2ff)\n",
    "analyze.plot_ff_3d(nf2ff, logscale=-20)"
   ]
  },
  {
   "cell_type": "code",
   "execution_count": null,
   "metadata": {},
   "outputs": [],
   "source": [
    "farfield = []\n",
    "for i in range(9):\n",
    "    nf2ff_path = Path.cwd() / \"src\" / \"sim\" / sim_path / f\"farfield_{i}.h5\"\n",
    "    nf2ff = analyze.read_nf2ff(nf2ff_path)\n",
    "    farfield.append(nf2ff)"
   ]
  },
  {
   "cell_type": "code",
   "execution_count": null,
   "metadata": {},
   "outputs": [],
   "source": [
    "E_norm = [analyze.plot_ff_2d(x) for x in farfield]"
   ]
  },
  {
   "cell_type": "code",
   "execution_count": null,
   "metadata": {},
   "outputs": [],
   "source": [
    "import numpy as np\n",
    "\n",
    "x = np.zeros_like(E_norm[0])\n",
    "x.shape, x.dtype"
   ]
  },
  {
   "cell_type": "code",
   "execution_count": null,
   "metadata": {},
   "outputs": [],
   "source": [
    "for i in range(9):\n",
    "    x += E_norm[i]"
   ]
  },
  {
   "cell_type": "code",
   "execution_count": null,
   "metadata": {},
   "outputs": [],
   "source": [
    "import matplotlib.pyplot as plt\n",
    "\n",
    "theta = np.arange(-180, 180, 2)\n",
    "\n",
    "plt.plot(theta, np.squeeze(x[0]), \"k-\", linewidth=2, label=\"xz-plane\")\n",
    "plt.plot(theta, np.squeeze(x[1]), \"r--\", linewidth=2, label=\"yz-plane\")\n",
    "plt.xlabel(\"Theta (deg)\")\n",
    "plt.ylabel(\"Directivity (dBi)\")\n",
    "plt.title(\"Directivity Plot\")\n",
    "plt.legend()\n",
    "plt.grid()"
   ]
  }
 ],
 "metadata": {
  "kernelspec": {
   "display_name": ".venv",
   "language": "python",
   "name": "python3"
  },
  "language_info": {
   "codemirror_mode": {
    "name": "ipython",
    "version": 3
   },
   "file_extension": ".py",
   "mimetype": "text/x-python",
   "name": "python",
   "nbconvert_exporter": "python",
   "pygments_lexer": "ipython3",
   "version": "3.12.8"
  }
 },
 "nbformat": 4,
 "nbformat_minor": 2
}
