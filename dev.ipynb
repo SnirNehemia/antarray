{
 "cells": [
  {
   "cell_type": "code",
   "execution_count": null,
   "metadata": {},
   "outputs": [],
   "source": [
    "%load_ext autoreload\n",
    "%autoreload 2"
   ]
  },
  {
   "cell_type": "code",
   "execution_count": null,
   "metadata": {},
   "outputs": [],
   "source": [
    "from pathlib import Path\n",
    "\n",
    "import matplotlib.pyplot as plt\n",
    "\n",
    "import analyze"
   ]
  },
  {
   "cell_type": "code",
   "execution_count": null,
   "metadata": {},
   "outputs": [],
   "source": [
    "# sim_name = \"single_antenna\"\n",
    "sim_name = \"antenna_array\"\n",
    "sim_path = Path.cwd() / \"src\" / \"sim\" / sim_name\n",
    "\n",
    "nf2ff = analyze.read_nf2ff(sim_path / \"farfield_4_4.h5\")\n",
    "fig = plt.figure(figsize=(12, 5))\n",
    "analyze.plot_ff_2d(nf2ff, ax=fig.add_subplot(121))\n",
    "analyze.plot_ff_3d(nf2ff, logscale=-20, ax=fig.add_subplot(122, projection=\"3d\"))"
   ]
  },
  {
   "cell_type": "code",
   "execution_count": null,
   "metadata": {},
   "outputs": [],
   "source": [
    "nf2ff = analyze.read_nf2ff(sim_path / \"farfield_1_1.h5\")\n",
    "fig = plt.figure(figsize=(12, 5))\n",
    "analyze.plot_ff_2d(nf2ff, ax=fig.add_subplot(121))\n",
    "analyze.plot_ff_3d(nf2ff, logscale=-20, ax=fig.add_subplot(122, projection=\"3d\"))"
   ]
  },
  {
   "cell_type": "code",
   "execution_count": null,
   "metadata": {},
   "outputs": [],
   "source": [
    "import numpy as np\n",
    "import matplotlib.pyplot as plt\n",
    "\n",
    "phi, theta = nf2ff[\"phi\"], nf2ff[\"theta\"]\n",
    "xn, yn = 4, 4\n",
    "ant_midX = np.array([144.0, 48.0, -48.0, -144.0])\n",
    "ant_midY = np.array([180.0, 60.0, -60.0, -180.0])\n",
    "C0 = 299792458\n",
    "f_res = 2.44e-9"
   ]
  },
  {
   "cell_type": "code",
   "execution_count": null,
   "metadata": {},
   "outputs": [],
   "source": [
    "def calculate_array_factor(\n",
    "    theta,\n",
    "    phi,\n",
    "    xn,\n",
    "    yn,\n",
    "    dx,\n",
    "    dy,\n",
    "    phase_shift_x=0,\n",
    "    phase_shift_y=0,\n",
    "):\n",
    "    \"\"\"Calculate array factor for a rectangular array\n",
    "\n",
    "    Args:\n",
    "        theta, phi: Far-field angles in degrees\n",
    "        xn, yn: Number of elements in x and y directions\n",
    "        dx, dy: Element spacing in meters\n",
    "        phase_shift_x, phase_shift_y: Progressive phase shift between elements\n",
    "    \"\"\"\n",
    "    theta_rad = theta\n",
    "    phi_rad = phi\n",
    "\n",
    "    # Convert to directional cosines\n",
    "    u = np.sin(theta_rad) * np.cos(phi_rad)\n",
    "    v = np.sin(theta_rad) * np.sin(phi_rad)\n",
    "\n",
    "    # Calculate array factor\n",
    "    AF = np.zeros((len(theta), len(phi)), dtype=complex)\n",
    "    k0 = 2 * np.pi * f0 / C0\n",
    "\n",
    "    for i in range(xn):\n",
    "        for j in range(yn):\n",
    "            x_pos = (i - (xn - 1) / 2) * dx\n",
    "            y_pos = (j - (yn - 1) / 2) * dy\n",
    "            phase = k0 * (x_pos * u + y_pos * v) + i * phase_shift_x + j * phase_shift_y\n",
    "            AF += np.exp(1j * phase)\n",
    "\n",
    "    return AF\n",
    "\n",
    "\n",
    "# Load simulation results\n",
    "nf2ff = analyze.read_nf2ff(sim_path / \"farfield_1_1.h5\")\n",
    "E_theta_single, E_phi_single, theta, phi = (\n",
    "    nf2ff[\"E_theta\"],\n",
    "    nf2ff[\"E_phi\"],\n",
    "    nf2ff[\"theta\"],\n",
    "    nf2ff[\"phi\"],\n",
    ")\n",
    "nf2ff = analyze.read_nf2ff(sim_path / \"farfield_4_4.h5\")\n",
    "E_theta_array, E_phi_array = nf2ff[\"E_theta\"], nf2ff[\"E_phi\"]\n",
    "\n",
    "# Calculate array factor\n",
    "patch_width = 32  # patch width (resonant length) in x-direction\n",
    "patch_length = 40  # patch length in y-direction\n",
    "\n",
    "# Convert mm to meters\n",
    "dx = patch_width * 3e-3\n",
    "dy = patch_length * 3e-3\n",
    "\n",
    "# f0 = 2.45e9\n",
    "f0 = 3e9\n",
    "AF = calculate_array_factor(theta, phi, 4, 4, dx, dy)\n",
    "\n",
    "# Calculate pattern from single element and array factor\n",
    "E_total_theory = (E_theta_single + E_phi_single) * AF\n",
    "E_total_sim = E_theta_array + E_phi_array\n",
    "\n",
    "# Normalize patterns\n",
    "E_total_theory = E_total_theory / np.max(np.abs(E_total_theory))\n",
    "E_total_sim = E_total_sim / np.max(np.abs(E_total_sim))\n",
    "\n",
    "# Plot comparison\n",
    "\n",
    "# E-plane cut (phi = 0)\n",
    "phi_idx = np.where(phi == 0)[0][0]\n",
    "plt.figure(figsize=(10, 6))\n",
    "plt.plot(\n",
    "    np.degrees(theta),\n",
    "    np.squeeze(20 * np.log10(np.abs(E_total_sim[:, phi_idx]))),\n",
    "    label=\"Full-wave simulation\",\n",
    ")\n",
    "plt.plot(\n",
    "    np.degrees(theta),\n",
    "    np.squeeze(20 * np.log10(np.abs(E_total_theory[:, phi_idx]))),\n",
    "    \"--\",\n",
    "    label=\"Pattern multiplication\",\n",
    ")\n",
    "plt.xlabel(\"Theta (degrees)\")\n",
    "plt.ylabel(\"Normalized magnitude (dB)\")\n",
    "plt.title(\"E-plane Pattern Comparison\")\n",
    "plt.grid(True)\n",
    "plt.legend()\n",
    "plt.ylim(-40, 0)\n",
    "plt.savefig(\"pattern_comparison.png\")\n",
    "plt.show()\n"
   ]
  },
  {
   "cell_type": "code",
   "execution_count": null,
   "metadata": {},
   "outputs": [],
   "source": [
    "# calculate lambda\n",
    "lambda0 = C0 / f0\n",
    "lambda0\n",
    "\n",
    "# compare the antenna spacing with the wavelength\n",
    "d = 0.5 * lambda0\n",
    "d, dx, d / dx"
   ]
  },
  {
   "cell_type": "code",
   "execution_count": null,
   "metadata": {},
   "outputs": [],
   "source": [
    "# setup FDTD parameter & excitation function\n",
    "f0 = 0  # center frequency\n",
    "fc = 3e9  # 20 dB corner frequency"
   ]
  },
  {
   "cell_type": "code",
   "execution_count": null,
   "metadata": {},
   "outputs": [],
   "source": [
    "np.linspace(max(1e9, f0 - fc), f0 + fc, 501)"
   ]
  }
 ],
 "metadata": {
  "kernelspec": {
   "display_name": ".venv",
   "language": "python",
   "name": "python3"
  },
  "language_info": {
   "codemirror_mode": {
    "name": "ipython",
    "version": 3
   },
   "file_extension": ".py",
   "mimetype": "text/x-python",
   "name": "python",
   "nbconvert_exporter": "python",
   "pygments_lexer": "ipython3",
   "version": "3.12.8"
  }
 },
 "nbformat": 4,
 "nbformat_minor": 2
}
